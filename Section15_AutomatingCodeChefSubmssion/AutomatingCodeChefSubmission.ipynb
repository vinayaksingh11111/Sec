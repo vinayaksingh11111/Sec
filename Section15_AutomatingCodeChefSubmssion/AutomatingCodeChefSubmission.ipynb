{
 "metadata": {
  "language_info": {
   "codemirror_mode": {
    "name": "ipython",
    "version": 3
   },
   "file_extension": ".py",
   "mimetype": "text/x-python",
   "name": "python",
   "nbconvert_exporter": "python",
   "pygments_lexer": "ipython3",
   "version": "3.7.9"
  },
  "orig_nbformat": 2,
  "kernelspec": {
   "name": "python379jvsc74a57bd0a9e09d92b10064a64871f82157c40094e73dca1cc0ea97749ced4b9887cb8e8f",
   "display_name": "Python 3.7.9 32-bit"
  },
  "metadata": {
   "interpreter": {
    "hash": "a9e09d92b10064a64871f82157c40094e73dca1cc0ea97749ced4b9887cb8e8f"
   }
  }
 },
 "nbformat": 4,
 "nbformat_minor": 2,
 "cells": [
  {
   "cell_type": "code",
   "execution_count": 7,
   "metadata": {},
   "outputs": [],
   "source": [
    "from selenium import webdriver\n",
    "browser=webdriver.Chrome()"
   ]
  },
  {
   "cell_type": "code",
   "execution_count": 8,
   "metadata": {},
   "outputs": [],
   "source": [
    "browser.get('https://www.codechef.com/')  # We are getting the the url"
   ]
  },
  {
   "cell_type": "code",
   "execution_count": 9,
   "metadata": {},
   "outputs": [],
   "source": [
    "username_element=browser.find_element_by_id('edit-name')   # Getting the username textfield\n",
    "username=input()\n",
    "username_element.send_keys(username)  # Sending our username to the username field"
   ]
  },
  {
   "cell_type": "code",
   "execution_count": 10,
   "metadata": {},
   "outputs": [],
   "source": [
    "password_element=browser.find_element_by_id('edit-pass')   # Getting the password text field\n",
    "from getpass import getpass\n",
    "password_element.send_keys(getpass('ENTER PASSWORD'))   # Through this library we can take password without showing anyone anything "
   ]
  },
  {
   "cell_type": "code",
   "execution_count": 11,
   "metadata": {},
   "outputs": [],
   "source": [
    "browser.find_element_by_id('edit-submit').click() # Through this we are clicking the login button"
   ]
  },
  {
   "cell_type": "code",
   "execution_count": 12,
   "metadata": {},
   "outputs": [],
   "source": [
    "browser.get('https://www.codechef.com/submit/OROFAND')   # Going to the submission link\n",
    "with open('ORRAND.cpp','r') as file:\n",
    "    code=file.read()    # Reading the .cpp file that we want to submit"
   ]
  },
  {
   "cell_type": "code",
   "execution_count": 14,
   "metadata": {},
   "outputs": [],
   "source": [
    "browser.find_element_by_id('edit-submit').click()    # Switching to non ide "
   ]
  },
  {
   "cell_type": "code",
   "execution_count": 15,
   "metadata": {},
   "outputs": [],
   "source": [
    "browser.find_element_by_id('edit_area_toggle_checkbox_edit-program').click()  # Toggling the editor so that I can paste the code that i read from the file"
   ]
  },
  {
   "cell_type": "code",
   "execution_count": 16,
   "metadata": {},
   "outputs": [],
   "source": [
    "code_element=browser.find_element_by_id('edit-program')   # Getting the id of the text area where I paste my code\n",
    "code_element.send_keys(code)  # Pasting the code"
   ]
  },
  {
   "cell_type": "code",
   "execution_count": 17,
   "metadata": {},
   "outputs": [],
   "source": [
    "browser.find_element_by_xpath('//*[@id=\"edit-language\"]/option[11]').click()   # Selecting the language bt finding the xpath element of my language "
   ]
  },
  {
   "cell_type": "code",
   "execution_count": 18,
   "metadata": {},
   "outputs": [],
   "source": [
    "browser.find_element_by_id('edit-submit-1').click()  # Clicking on the submit button"
   ]
  },
  {
   "cell_type": "code",
   "execution_count": null,
   "metadata": {},
   "outputs": [],
   "source": []
  }
 ]
}